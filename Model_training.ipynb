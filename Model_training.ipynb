{
 "cells": [
  {
   "cell_type": "markdown",
   "id": "f0083f97",
   "metadata": {},
   "source": [
    "Spam Email Detection "
   ]
  },
  {
   "cell_type": "code",
   "execution_count": 2,
   "id": "d5f5a508",
   "metadata": {},
   "outputs": [
    {
     "name": "stdout",
     "output_type": "stream",
     "text": [
      "Reinitialized existing Git repository in E:/ML PROJECTS/Project - Spam email detection/.git/\n"
     ]
    }
   ],
   "source": [
    "#Linking to GitHub repository\n",
    "!git init \n",
    "!git remote add origin https://github.com/abhaychauhan2k3/PROJECT--2-SPAM-EMAIL-DETECTION"
   ]
  },
  {
   "cell_type": "code",
   "execution_count": null,
   "id": "d1e399f2",
   "metadata": {},
   "outputs": [],
   "source": [
    "git add ."
   ]
  }
 ],
 "metadata": {
  "kernelspec": {
   "display_name": "Python 3",
   "language": "python",
   "name": "python3"
  },
  "language_info": {
   "codemirror_mode": {
    "name": "ipython",
    "version": 3
   },
   "file_extension": ".py",
   "mimetype": "text/x-python",
   "name": "python",
   "nbconvert_exporter": "python",
   "pygments_lexer": "ipython3",
   "version": "3.13.6"
  }
 },
 "nbformat": 4,
 "nbformat_minor": 5
}
