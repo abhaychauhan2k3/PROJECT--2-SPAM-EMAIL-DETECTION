{
 "cells": [
  {
   "cell_type": "markdown",
   "id": "f0083f97",
   "metadata": {},
   "source": [
    "Spam Email Detection "
   ]
  },
  {
   "cell_type": "code",
   "execution_count": 1,
   "id": "d5f5a508",
   "metadata": {},
   "outputs": [
    {
     "name": "stdout",
     "output_type": "stream",
     "text": [
      "Reinitialized existing Git repository in E:/ML PROJECTS/Project - Spam email detection/.git/\n"
     ]
    },
    {
     "name": "stderr",
     "output_type": "stream",
     "text": [
      "error: remote origin already exists.\n"
     ]
    }
   ],
   "source": [
    "#Linking to GitHub repository\n",
    "!git init \n",
    "!git remote add origin https://github.com/abhaychauhan2k3/PROJECT--2-SPAM-EMAIL-DETECTION"
   ]
  },
  {
   "cell_type": "code",
   "execution_count": 3,
   "id": "d1e399f2",
   "metadata": {},
   "outputs": [
    {
     "name": "stderr",
     "output_type": "stream",
     "text": [
      "warning: in the working copy of 'Model_training.ipynb', LF will be replaced by CRLF the next time Git touches it\n"
     ]
    }
   ],
   "source": [
    "!git add ."
   ]
  },
  {
   "cell_type": "code",
   "execution_count": 4,
   "id": "c56c21af",
   "metadata": {},
   "outputs": [
    {
     "name": "stdout",
     "output_type": "stream",
     "text": [
      "[master (root-commit) 96ca353] Project - 2 Spam email detection\n",
      " 1 file changed, 63 insertions(+)\n",
      " create mode 100644 Model_training.ipynb\n"
     ]
    }
   ],
   "source": [
    "!git commit -m \"Project - 2 Spam email detection\""
   ]
  },
  {
   "cell_type": "code",
   "execution_count": 6,
   "id": "551f5372",
   "metadata": {},
   "outputs": [
    {
     "name": "stdout",
     "output_type": "stream",
     "text": [
      "branch 'main' set up to track 'origin/main'.\n"
     ]
    },
    {
     "name": "stderr",
     "output_type": "stream",
     "text": [
      "Everything up-to-date\n"
     ]
    }
   ],
   "source": [
    "!git branch -M main\n",
    "!git push -u origin main\n"
   ]
  },
  {
   "cell_type": "code",
   "execution_count": 7,
   "id": "5e225a28",
   "metadata": {},
   "outputs": [
    {
     "name": "stderr",
     "output_type": "stream",
     "text": [
      "Everything up-to-date\n"
     ]
    }
   ],
   "source": [
    "!git push\n"
   ]
  },
  {
   "cell_type": "code",
   "execution_count": null,
   "id": "670bcba7",
   "metadata": {},
   "outputs": [],
   "source": []
  }
 ],
 "metadata": {
  "kernelspec": {
   "display_name": "Python 3",
   "language": "python",
   "name": "python3"
  },
  "language_info": {
   "codemirror_mode": {
    "name": "ipython",
    "version": 3
   },
   "file_extension": ".py",
   "mimetype": "text/x-python",
   "name": "python",
   "nbconvert_exporter": "python",
   "pygments_lexer": "ipython3",
   "version": "3.13.6"
  }
 },
 "nbformat": 4,
 "nbformat_minor": 5
}
